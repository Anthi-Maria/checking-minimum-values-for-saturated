{
 "cells": [
  {
   "cell_type": "code",
   "execution_count": 1,
   "id": "failing-directory",
   "metadata": {},
   "outputs": [
    {
     "name": "stdout",
     "output_type": "stream",
     "text": [
      "Academic license - for non-commercial use only - expires 2023-02-21\n",
      "Using license file /home/schwartzlab/gurobi.lic\n"
     ]
    }
   ],
   "source": [
    "import numpy as np\n",
    "import pandas as pd\n",
    "import cobra.test\n",
    "import os\n",
    "\n",
    "from os.path import join\n",
    "\n",
    "from time import time\n",
    "\n",
    "\n",
    "from cobra.flux_analysis import (\n",
    "    single_gene_deletion, single_reaction_deletion, double_gene_deletion,\n",
    "    double_reaction_deletion)\n",
    "\n",
    "a = cobra.io.read_sbml_model(\"iEC1344_C.xml\")"
   ]
  },
  {
   "cell_type": "code",
   "execution_count": 22,
   "id": "frank-implementation",
   "metadata": {},
   "outputs": [
    {
     "data": {
      "text/plain": [
       "[]"
      ]
     },
     "execution_count": 22,
     "metadata": {},
     "output_type": "execute_result"
    }
   ],
   "source": [
    "i= 0\n",
    "diff_saturated= list()\n",
    "diff_saturated2= list()\n",
    "flat2= list()\n",
    "diff_indecr2= list()\n",
    "r = a.reactions[0]\n",
    "\n",
    "\n",
    "for r in a.reactions:\n",
    "    \n",
    "    l= list()\n",
    "    n=0\n",
    "    n2=0\n",
    "    n3=0\n",
    "    count=0\n",
    "    count2=0\n",
    "    r = a.reactions[i]\n",
    "    r_id = r.id\n",
    "    csvFile = pd.read_csv('biomass_per_flux_for_reaction_{}_lactose.csv'.format(r_id))\n",
    "\n",
    "    while n < 201:\n",
    "        inf= csvFile.iloc[n,  2]\n",
    "        flt= float(csvFile.iloc[n,  2])\n",
    "    \n",
    "        if csvFile.iloc[n,  2] == flt:\n",
    "            l.append(csvFile.iloc[n,  2])\n",
    "        n= n+1\n",
    "\n",
    "    d= pd.DataFrame (l, columns = ['Biomass'])\n",
    "\n",
    "\n",
    "    if len(d)> 1:\n",
    "        \n",
    "        while n2 < len(d):\n",
    "\n",
    "            if d.iloc[n2,  0] > min(d[\"Biomass\"])-0.02 and d.iloc[n2,  0] < min(d[\"Biomass\"])+0.02:\n",
    "                count2= count2+1\n",
    "    \n",
    "            n2= n2+1\n",
    "        \n",
    "        while n3 < len(d):\n",
    "            \n",
    "            if d.iloc[n3,  0] > max(d[\"Biomass\"])-0.02 and d.iloc[n3,  0] < max(d[\"Biomass\"])+0.02:\n",
    "                count= count+1\n",
    "    \n",
    "            n3= n3+1\n",
    "        \n",
    "        \n",
    "        if count> 0.8*len(d) and count< 0.95*len(d):\n",
    "            diff_saturated.append(r_id)\n",
    "\n",
    "        if count2> 0.8*len(d) and count2< 0.95*len(d):\n",
    "            diff_saturated2.append(r_id)\n",
    "            \n",
    "        elif count> 0.95*len(d) or count2> 0.95*len(d):\n",
    "            flat2.append(r_id)\n",
    "        \n",
    "        elif count< 0.8*len(d) and count2< 0.8*len(d):\n",
    "            diff_indecr2.append(r_id)\n",
    "\n",
    "    \n",
    "    i= i+1\n",
    "\n",
    "\n",
    "diff_saturated2"
   ]
  },
  {
   "cell_type": "code",
   "execution_count": 18,
   "id": "protecting-remove",
   "metadata": {},
   "outputs": [
    {
     "data": {
      "text/plain": [
       "147"
      ]
     },
     "execution_count": 18,
     "metadata": {},
     "output_type": "execute_result"
    }
   ],
   "source": [
    "union = pd.Series(np.union1d(flat, flat2))\n",
    "intersect = pd.Series(np.intersect1d(flat, flat2))\n",
    "len(intersect)"
   ]
  },
  {
   "cell_type": "code",
   "execution_count": 16,
   "id": "binding-thought",
   "metadata": {},
   "outputs": [
    {
     "data": {
      "text/plain": [
       "147"
      ]
     },
     "execution_count": 16,
     "metadata": {},
     "output_type": "execute_result"
    }
   ],
   "source": [
    "len(flat)"
   ]
  },
  {
   "cell_type": "code",
   "execution_count": 24,
   "id": "attempted-lighting",
   "metadata": {},
   "outputs": [
    {
     "data": {
      "text/plain": [
       "147"
      ]
     },
     "execution_count": 24,
     "metadata": {},
     "output_type": "execute_result"
    }
   ],
   "source": [
    "len(flat2)"
   ]
  },
  {
   "cell_type": "code",
   "execution_count": 25,
   "id": "considered-northern",
   "metadata": {},
   "outputs": [
    {
     "data": {
      "text/plain": [
       "[]"
      ]
     },
     "execution_count": 25,
     "metadata": {},
     "output_type": "execute_result"
    }
   ],
   "source": [
    "set1= set(flat2)\n",
    "set2= set(flat)\n",
    "flat_differences= list(set1-set2)\n",
    "flat_differences"
   ]
  },
  {
   "cell_type": "code",
   "execution_count": 23,
   "id": "classified-apparatus",
   "metadata": {},
   "outputs": [
    {
     "data": {
      "text/plain": [
       "[]"
      ]
     },
     "execution_count": 23,
     "metadata": {},
     "output_type": "execute_result"
    }
   ],
   "source": [
    "set1= set(diff_indecr2)\n",
    "set2= set(diff_indecr)\n",
    "diff_indecr_differences= list(set1-set2)\n",
    "diff_indecr_differences"
   ]
  },
  {
   "cell_type": "code",
   "execution_count": null,
   "id": "foster-webmaster",
   "metadata": {},
   "outputs": [],
   "source": []
  }
 ],
 "metadata": {
  "kernelspec": {
   "display_name": "Python 3",
   "language": "python",
   "name": "python3"
  },
  "language_info": {
   "codemirror_mode": {
    "name": "ipython",
    "version": 3
   },
   "file_extension": ".py",
   "mimetype": "text/x-python",
   "name": "python",
   "nbconvert_exporter": "python",
   "pygments_lexer": "ipython3",
   "version": "3.8.3"
  }
 },
 "nbformat": 4,
 "nbformat_minor": 5
}
